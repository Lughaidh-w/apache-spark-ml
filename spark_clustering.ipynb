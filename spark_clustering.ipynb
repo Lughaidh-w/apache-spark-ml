{
 "cells": [
  {
   "cell_type": "code",
   "execution_count": null,
   "id": "540d491d-820d-47e3-b465-9ba1c6da367b",
   "metadata": {},
   "outputs": [],
   "source": [
    "def warn(*args, **kwargs):\n",
    "    pass\n",
    "import warnings\n",
    "warnings.warn = warn\n",
    "warnings.filterwarnings('ignore')\n",
    "\n",
    "import findspark\n",
    "findspark.init()\n",
    "\n",
    "from pyspark.ml.clustering import KMeans\n",
    "from pyspark.ml.feature import VectorAssembler\n",
    "from pyspark.sql import SparkSession"
   ]
  },
  {
   "cell_type": "code",
   "execution_count": 2,
   "id": "463cf7e0-85b6-445e-9621-05754e4d9609",
   "metadata": {},
   "outputs": [
    {
     "name": "stderr",
     "output_type": "stream",
     "text": [
      "24/06/10 14:14:36 WARN Utils: Your hostname, ubuntu-MS-7D15 resolves to a loopback address: 127.0.1.1; using 192.168.1.3 instead (on interface enp5s0)\n",
      "24/06/10 14:14:36 WARN Utils: Set SPARK_LOCAL_IP if you need to bind to another address\n",
      "WARNING: An illegal reflective access operation has occurred\n",
      "WARNING: Illegal reflective access by org.apache.spark.unsafe.Platform (file:/home/ubuntu/miniconda3/envs/cct/lib/python3.11/site-packages/pyspark/jars/spark-unsafe_2.12-3.1.2.jar) to constructor java.nio.DirectByteBuffer(long,int)\n",
      "WARNING: Please consider reporting this to the maintainers of org.apache.spark.unsafe.Platform\n",
      "WARNING: Use --illegal-access=warn to enable warnings of further illegal reflective access operations\n",
      "WARNING: All illegal access operations will be denied in a future release\n",
      "24/06/10 14:14:51 WARN NativeCodeLoader: Unable to load native-hadoop library for your platform... using builtin-java classes where applicable\n",
      "Using Spark's default log4j profile: org/apache/spark/log4j-defaults.properties\n",
      "Setting default log level to \"WARN\".\n",
      "To adjust logging level use sc.setLogLevel(newLevel). For SparkR, use setLogLevel(newLevel).\n"
     ]
    }
   ],
   "source": [
    "spark = SparkSession.builder.appName(\"Clustering using SparkML\").getOrCreate()"
   ]
  },
  {
   "cell_type": "markdown",
   "id": "8b1110e7-d387-4750-bcbc-efdf31f648ab",
   "metadata": {},
   "source": [
    "### Clustering 1"
   ]
  },
  {
   "cell_type": "code",
   "execution_count": 3,
   "id": "f173f786-70ec-49be-9302-590904858399",
   "metadata": {},
   "outputs": [
    {
     "name": "stdout",
     "output_type": "stream",
     "text": [
      "--2024-06-10 14:14:53--  https://cf-courses-data.s3.us.cloud-object-storage.appdomain.cloud/IBM-BD0231EN-SkillsNetwork/datasets/customers.csv\n",
      "Resolving cf-courses-data.s3.us.cloud-object-storage.appdomain.cloud (cf-courses-data.s3.us.cloud-object-storage.appdomain.cloud)... 169.45.118.108\n",
      "Connecting to cf-courses-data.s3.us.cloud-object-storage.appdomain.cloud (cf-courses-data.s3.us.cloud-object-storage.appdomain.cloud)|169.45.118.108|:443... connected.\n",
      "HTTP request sent, awaiting response... 200 OK\n",
      "Length: 8909 (8.7K) [text/csv]\n",
      "Saving to: ‘customers.csv.1’\n",
      "\n",
      "customers.csv.1     100%[===================>]   8.70K  --.-KB/s    in 0s      \n",
      "\n",
      "2024-06-10 14:14:54 (408 MB/s) - ‘customers.csv.1’ saved [8909/8909]\n",
      "\n"
     ]
    }
   ],
   "source": [
    "!wget https://cf-courses-data.s3.us.cloud-object-storage.appdomain.cloud/IBM-BD0231EN-SkillsNetwork/datasets/customers.csv"
   ]
  },
  {
   "cell_type": "code",
   "execution_count": 4,
   "id": "1ee3d5f6-2c69-4bc9-8cbc-5189adc0d336",
   "metadata": {},
   "outputs": [
    {
     "name": "stdout",
     "output_type": "stream",
     "text": [
      "+----------+----+-------+-----------+\n",
      "|Fresh_Food|Milk|Grocery|Frozen_Food|\n",
      "+----------+----+-------+-----------+\n",
      "|12669     |9656|7561   |214        |\n",
      "|7057      |9810|9568   |1762       |\n",
      "|6353      |8808|7684   |2405       |\n",
      "|13265     |1196|4221   |6404       |\n",
      "|22615     |5410|7198   |3915       |\n",
      "+----------+----+-------+-----------+\n",
      "only showing top 5 rows\n",
      "\n"
     ]
    }
   ],
   "source": [
    "customer_data = spark.read.csv(\"customers.csv\", header=True, inferSchema=True)\n",
    "customer_data.show(n=5, truncate=False)"
   ]
  },
  {
   "cell_type": "code",
   "execution_count": 5,
   "id": "fba2cdfa-693a-47de-91cb-0e19886f246d",
   "metadata": {},
   "outputs": [],
   "source": [
    "# Assemble the features into a single vector column\n",
    "feature_cols = ['Fresh_Food', 'Milk', 'Grocery', 'Frozen_Food']\n",
    "assembler = VectorAssembler(inputCols=feature_cols, outputCol=\"features\")\n",
    "customer_transformed_data = assembler.transform(customer_data)"
   ]
  },
  {
   "cell_type": "code",
   "execution_count": 6,
   "id": "fb620c56-401c-482a-b6c7-3302381fbf96",
   "metadata": {},
   "outputs": [],
   "source": [
    "number_of_clusters = 3\n",
    "kmeans = KMeans(k = number_of_clusters)"
   ]
  },
  {
   "cell_type": "markdown",
   "id": "9484b42e-2794-4895-8686-f59f11d4861c",
   "metadata": {},
   "source": [
    "#### Train/fit model"
   ]
  },
  {
   "cell_type": "code",
   "execution_count": 7,
   "id": "266e85f2-9be7-4327-b486-e891ecf71c23",
   "metadata": {},
   "outputs": [
    {
     "name": "stderr",
     "output_type": "stream",
     "text": [
      "24/06/10 14:14:57 WARN BLAS: Failed to load implementation from: com.github.fommil.netlib.NativeSystemBLAS\n",
      "24/06/10 14:14:57 WARN BLAS: Failed to load implementation from: com.github.fommil.netlib.NativeRefBLAS\n"
     ]
    }
   ],
   "source": [
    "model = kmeans.fit(customer_transformed_data)"
   ]
  },
  {
   "cell_type": "markdown",
   "id": "62f9cbfe-e8fe-4d48-ba7f-7a9bf3fb9f22",
   "metadata": {},
   "source": [
    "#### Predictions"
   ]
  },
  {
   "cell_type": "code",
   "execution_count": 8,
   "id": "92dc8dee-5ab5-477b-b397-e31c69bceb91",
   "metadata": {},
   "outputs": [],
   "source": [
    "predictions = model.transform(customer_transformed_data)"
   ]
  },
  {
   "cell_type": "code",
   "execution_count": 9,
   "id": "dea20e89-ad3a-4ffb-ac7d-1c1ccc0f1e2a",
   "metadata": {},
   "outputs": [
    {
     "name": "stdout",
     "output_type": "stream",
     "text": [
      "+----------+-----+\n",
      "|prediction|count|\n",
      "+----------+-----+\n",
      "|         1|   49|\n",
      "|         2|   60|\n",
      "|         0|  331|\n",
      "+----------+-----+\n",
      "\n"
     ]
    }
   ],
   "source": [
    "predictions.groupBy('prediction').count().show()"
   ]
  },
  {
   "cell_type": "code",
   "execution_count": 10,
   "id": "b32354a4-ab34-4c50-bef5-ccf5df8a62f7",
   "metadata": {},
   "outputs": [],
   "source": [
    "spark.stop()"
   ]
  },
  {
   "cell_type": "markdown",
   "id": "a1c32d4a-bd7b-4b2c-8373-e79efebd6049",
   "metadata": {},
   "source": [
    "### Clustering 2"
   ]
  },
  {
   "cell_type": "code",
   "execution_count": 11,
   "id": "048e7931-1a76-4eb6-89f2-f25867ce1887",
   "metadata": {},
   "outputs": [],
   "source": [
    "spark = SparkSession.builder.appName(\"Seed Clustering\").getOrCreate()"
   ]
  },
  {
   "cell_type": "code",
   "execution_count": 12,
   "id": "8bcc7575-1113-459d-b6dc-8a764018546b",
   "metadata": {},
   "outputs": [
    {
     "name": "stdout",
     "output_type": "stream",
     "text": [
      "--2024-06-10 14:14:58--  https://cf-courses-data.s3.us.cloud-object-storage.appdomain.cloud/IBM-BD0231EN-SkillsNetwork/datasets/seeds.csv\n",
      "Resolving cf-courses-data.s3.us.cloud-object-storage.appdomain.cloud (cf-courses-data.s3.us.cloud-object-storage.appdomain.cloud)... 169.45.118.108\n",
      "Connecting to cf-courses-data.s3.us.cloud-object-storage.appdomain.cloud (cf-courses-data.s3.us.cloud-object-storage.appdomain.cloud)|169.45.118.108|:443... connected.\n",
      "HTTP request sent, awaiting response... 200 OK\n",
      "Length: 8973 (8.8K) [text/csv]\n",
      "Saving to: ‘seeds.csv.1’\n",
      "\n",
      "seeds.csv.1         100%[===================>]   8.76K  --.-KB/s    in 0s      \n",
      "\n",
      "2024-06-10 14:14:59 (458 MB/s) - ‘seeds.csv.1’ saved [8973/8973]\n",
      "\n"
     ]
    }
   ],
   "source": [
    "!wget https://cf-courses-data.s3.us.cloud-object-storage.appdomain.cloud/IBM-BD0231EN-SkillsNetwork/datasets/seeds.csv"
   ]
  },
  {
   "cell_type": "code",
   "execution_count": 13,
   "id": "d3bbaec2-6d0f-4a7b-a57d-00d75f502f62",
   "metadata": {},
   "outputs": [
    {
     "name": "stdout",
     "output_type": "stream",
     "text": [
      "+-----+---------+-----------+----------------+---------------+---------------------+-----------------------+\n",
      "|area |perimeter|compactness|length of kernel|width of kernel|asymmetry coefficient|length of kernel groove|\n",
      "+-----+---------+-----------+----------------+---------------+---------------------+-----------------------+\n",
      "|15.26|14.84    |0.871      |5.763           |3.312          |2.221                |5.22                   |\n",
      "|14.88|14.57    |0.8811     |5.554           |3.333          |1.018                |4.956                  |\n",
      "|14.29|14.09    |0.905      |5.291           |3.337          |2.699                |4.825                  |\n",
      "|13.84|13.94    |0.8955     |5.324           |3.379          |2.259                |4.805                  |\n",
      "|16.14|14.99    |0.9034     |5.658           |3.562          |1.355                |5.175                  |\n",
      "+-----+---------+-----------+----------------+---------------+---------------------+-----------------------+\n",
      "only showing top 5 rows\n",
      "\n"
     ]
    }
   ],
   "source": [
    "seed_data = spark.read.csv(\"seeds.csv\", header=True, inferSchema=True)\n",
    "seed_data.show(n=5, truncate=False)"
   ]
  },
  {
   "cell_type": "code",
   "execution_count": 14,
   "id": "d661b6f1-772a-42e8-baf2-0ce451630c70",
   "metadata": {},
   "outputs": [
    {
     "name": "stdout",
     "output_type": "stream",
     "text": [
      "root\n",
      " |-- area: double (nullable = true)\n",
      " |-- perimeter: double (nullable = true)\n",
      " |-- compactness: double (nullable = true)\n",
      " |-- length of kernel: double (nullable = true)\n",
      " |-- width of kernel: double (nullable = true)\n",
      " |-- asymmetry coefficient: double (nullable = true)\n",
      " |-- length of kernel groove: double (nullable = true)\n",
      "\n"
     ]
    }
   ],
   "source": [
    "seed_data.printSchema()"
   ]
  },
  {
   "cell_type": "code",
   "execution_count": 15,
   "id": "94c512c9-54ef-41ef-86bc-4de5bdb9ea58",
   "metadata": {},
   "outputs": [],
   "source": [
    "feature_cols = ['area', 'perimeter', 'compactness', 'length of kernel', 'width of kernel', 'asymmetry coefficient', 'length of kernel groove']\n",
    "assembler = VectorAssembler(inputCols=feature_cols, outputCol=\"features\")\n",
    "seed_transformed_data = assembler.transform(seed_data)"
   ]
  },
  {
   "cell_type": "code",
   "execution_count": 16,
   "id": "4020a602-b2bb-412a-b547-f9c015d44b55",
   "metadata": {},
   "outputs": [],
   "source": [
    "number_of_clusters =  7\n",
    "kmeans = KMeans(k = number_of_clusters)"
   ]
  },
  {
   "cell_type": "code",
   "execution_count": 17,
   "id": "12453745-8e81-4da4-bb1e-69570d0314a4",
   "metadata": {},
   "outputs": [],
   "source": [
    "model = kmeans.fit(seed_transformed_data)"
   ]
  },
  {
   "cell_type": "markdown",
   "id": "ecbcba0a-3f45-4a98-907d-58c607cab5b1",
   "metadata": {},
   "source": [
    "#### Predictions"
   ]
  },
  {
   "cell_type": "code",
   "execution_count": 18,
   "id": "52f89f57-643a-42ee-8fe6-945adbecee66",
   "metadata": {},
   "outputs": [],
   "source": [
    "predictions = model.transform(seed_transformed_data)"
   ]
  },
  {
   "cell_type": "code",
   "execution_count": 19,
   "id": "7ca22b3d-8d76-42f4-b25e-1be72c3f341d",
   "metadata": {},
   "outputs": [
    {
     "name": "stdout",
     "output_type": "stream",
     "text": [
      "+----------+-----+\n",
      "|prediction|count|\n",
      "+----------+-----+\n",
      "|         1|   17|\n",
      "|         6|   29|\n",
      "|         3|   33|\n",
      "|         5|   63|\n",
      "|         4|   17|\n",
      "|         2|   15|\n",
      "|         0|   36|\n",
      "+----------+-----+\n",
      "\n"
     ]
    }
   ],
   "source": [
    "predictions.groupBy('prediction').count().show()"
   ]
  },
  {
   "cell_type": "code",
   "execution_count": 20,
   "id": "124fe387-5766-4e17-9312-bb0d74e0dbd2",
   "metadata": {},
   "outputs": [],
   "source": [
    "spark.stop()"
   ]
  }
 ],
 "metadata": {
  "kernelspec": {
   "display_name": "Python 3 (ipykernel)",
   "language": "python",
   "name": "python3"
  },
  "language_info": {
   "codemirror_mode": {
    "name": "ipython",
    "version": 3
   },
   "file_extension": ".py",
   "mimetype": "text/x-python",
   "name": "python",
   "nbconvert_exporter": "python",
   "pygments_lexer": "ipython3",
   "version": "3.11.5"
  }
 },
 "nbformat": 4,
 "nbformat_minor": 5
}
